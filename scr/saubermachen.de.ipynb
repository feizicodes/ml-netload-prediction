{
 "cells": [
  {
   "cell_type": "code",
   "execution_count": 1,
   "id": "0bfd7684",
   "metadata": {},
   "outputs": [
    {
     "name": "stdout",
     "output_type": "stream",
     "text": [
      "              utc_timestamp  DE_load_actual_entsoe_transparency  \\\n",
      "0 2015-01-01 00:00:00+00:00                             41151.0   \n",
      "1 2015-01-01 01:00:00+00:00                             40135.0   \n",
      "2 2015-01-01 02:00:00+00:00                             39106.0   \n",
      "3 2015-01-01 03:00:00+00:00                             38765.0   \n",
      "4 2015-01-01 04:00:00+00:00                             38941.0   \n",
      "\n",
      "   DE_solar_generation_actual  DE_wind_onshore_generation_actual  \\\n",
      "0                         0.0                             8336.0   \n",
      "1                         0.0                             8540.0   \n",
      "2                         0.0                             8552.0   \n",
      "3                         0.0                             8643.0   \n",
      "4                         0.0                             8712.0   \n",
      "\n",
      "   DE_temperature  DE_radiation_direct_horizontal  \\\n",
      "0          -0.981                             0.0   \n",
      "1          -1.035                             0.0   \n",
      "2          -1.109                             0.0   \n",
      "3          -1.166                             0.0   \n",
      "4          -1.226                             0.0   \n",
      "\n",
      "   DE_radiation_diffuse_horizontal  hour  month  weekday  day  year  \\\n",
      "0                              0.0     0      1        3    1  2015   \n",
      "1                              0.0     1      1        3    1  2015   \n",
      "2                              0.0     2      1        3    1  2015   \n",
      "3                              0.0     3      1        3    1  2015   \n",
      "4                              0.0     4      1        3    1  2015   \n",
      "\n",
      "   is_weekend  radiation_total  residual_load  is_holiday  \n",
      "0           0              0.0        32815.0           1  \n",
      "1           0              0.0        31595.0           1  \n",
      "2           0              0.0        30554.0           1  \n",
      "3           0              0.0        30122.0           1  \n",
      "4           0              0.0        30229.0           1  \n"
     ]
    }
   ],
   "source": [
    "import pandas as pd\n",
    "import holidays\n",
    "\n",
    "# Lade die gemergten Daten\n",
    "file_path = \"../data/merged_data_de.csv\"\n",
    "df = pd.read_csv(file_path, parse_dates=[\"utc_timestamp\"])\n",
    "\n",
    "# Schritt 1: Zeitmerkmale extrahieren\n",
    "df[\"hour\"] = df[\"utc_timestamp\"].dt.hour\n",
    "df[\"month\"] = df[\"utc_timestamp\"].dt.month\n",
    "df[\"weekday\"] = df[\"utc_timestamp\"].dt.weekday\n",
    "df[\"day\"] = df[\"utc_timestamp\"].dt.day\n",
    "df[\"year\"] = df[\"utc_timestamp\"].dt.year\n",
    "df[\"is_weekend\"] = df[\"weekday\"].isin([5, 6]).astype(int)  # Samstag = 5, Sonntag = 6\n",
    "\n",
    "# Schritt 2: Fehlende Werte auffüllen (PV & Wind → 0 setzen)\n",
    "df[\"DE_solar_generation_actual\"] = df[\"DE_solar_generation_actual\"].fillna(0)\n",
    "df[\"DE_wind_onshore_generation_actual\"] = df[\"DE_wind_onshore_generation_actual\"].fillna(0)\n",
    "\n",
    "# Schritt 3: Neue Feature – Gesamtstrahlung und Residuallast\n",
    "df[\"radiation_total\"] = df[\"DE_radiation_direct_horizontal\"] + df[\"DE_radiation_diffuse_horizontal\"]\n",
    "df[\"residual_load\"] = df[\"DE_load_actual_entsoe_transparency\"] - (\n",
    "    df[\"DE_solar_generation_actual\"] + df[\"DE_wind_onshore_generation_actual\"]\n",
    ")\n",
    "\n",
    "\n",
    "\n",
    "# Deutsche Feiertage (bundesweit) für 2015–2020\n",
    "de_holidays = holidays.Germany(years=range(2015, 2021))\n",
    "\n",
    "# Neue Spalte: Feiertag = 1, sonst 0\n",
    "df[\"is_holiday\"] = df[\"utc_timestamp\"].dt.date.isin(de_holidays).astype(int)\n",
    "\n",
    "\n",
    "#zeigen der CSV head \n",
    "print(df.head())\n",
    "\n",
    "#speicher der DataFrame in eine neue CSV-Datei\n",
    "output_file_path = \"../data/processed_data_de.csv\"\n",
    "df.to_csv(output_file_path, index=False)\n"
   ]
  }
 ],
 "metadata": {
  "kernelspec": {
   "display_name": "EDA",
   "language": "python",
   "name": "python3"
  },
  "language_info": {
   "codemirror_mode": {
    "name": "ipython",
    "version": 3
   },
   "file_extension": ".py",
   "mimetype": "text/x-python",
   "name": "python",
   "nbconvert_exporter": "python",
   "pygments_lexer": "ipython3",
   "version": "3.12.2"
  }
 },
 "nbformat": 4,
 "nbformat_minor": 5
}

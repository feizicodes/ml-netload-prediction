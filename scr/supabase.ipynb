{
 "cells": [
  {
   "cell_type": "code",
   "execution_count": 1,
   "id": "73bdadd0",
   "metadata": {},
   "outputs": [
    {
     "name": "stdout",
     "output_type": "stream",
     "text": [
      "✅ Erfolgreich 200 Zeilen in Supabase hochgeladen.\n"
     ]
    }
   ],
   "source": [
    "import pandas as pd\n",
    "import psycopg\n",
    "from dotenv import load_dotenv\n",
    "import os\n",
    "\n",
    "# === 1. .env laden ===\n",
    "load_dotenv()\n",
    "dbconn = os.getenv(\"SUPABASE_DB_URL\")\n",
    "\n",
    "# === 2. CSV laden und vorbereiten ===\n",
    "df = pd.read_csv(\"../data/EDM_B4S.csv\", sep=\";\")\n",
    "df.columns = [col.strip().replace(\" \", \"_\") for col in df.columns]\n",
    "df[\"time\"] = pd.to_datetime(df[\"time\"], errors=\"coerce\")\n",
    "df = df.dropna(subset=[\"time\"])\n",
    "df = df.head(10)  # Nur erste 200 Zeilen\n",
    "\n",
    "# === 3. Verbindung zur Supabase-PostgreSQL ===\n",
    "conn = psycopg.connect(dbconn)\n",
    "cur = conn.cursor()\n",
    "\n",
    "# === 4. Tabelle erstellen, falls nicht vorhanden ===\n",
    "cur.execute('''\n",
    "    CREATE TABLE IF NOT EXISTS b4s_data (\n",
    "        time TIMESTAMP PRIMARY KEY,\n",
    "        Nettolast_P_kW REAL,\n",
    "        Nettolast_Q_kvar REAL\n",
    "    );\n",
    "''')\n",
    "\n",
    "# === 5. Zeilen als Tupelliste vorbereiten ===\n",
    "rows = [\n",
    "    (\n",
    "        row[\"time\"],\n",
    "        float(row[\"Nettolast_P_kW\"]) if pd.notna(row[\"Nettolast_P_kW\"]) else None,\n",
    "        float(row[\"Nettolast_Q_kvar\"]) if pd.notna(row[\"Nettolast_Q_kvar\"]) else None\n",
    "    )\n",
    "    for _, row in df.iterrows()\n",
    "]\n",
    "\n",
    "# === 6. Schneller Bulk-Insert mit Konfliktbehandlung ===\n",
    "cur.executemany('''\n",
    "    INSERT INTO b4s_data (time, Nettolast_P_kW, Nettolast_Q_kvar)\n",
    "    VALUES (%s, %s, %s)\n",
    "    ON CONFLICT (time) DO NOTHING;\n",
    "''', rows)\n",
    "\n",
    "# === 7. Speichern und Verbindung schließen ===\n",
    "conn.commit()\n",
    "cur.close()\n",
    "conn.close()\n",
    "\n",
    "print(\"✅ Erfolgreich 200 Zeilen in Supabase hochgeladen.\")\n"
   ]
  }
 ],
 "metadata": {
  "kernelspec": {
   "display_name": "EDA",
   "language": "python",
   "name": "python3"
  },
  "language_info": {
   "codemirror_mode": {
    "name": "ipython",
    "version": 3
   },
   "file_extension": ".py",
   "mimetype": "text/x-python",
   "name": "python",
   "nbconvert_exporter": "python",
   "pygments_lexer": "ipython3",
   "version": "3.12.2"
  }
 },
 "nbformat": 4,
 "nbformat_minor": 5
}
